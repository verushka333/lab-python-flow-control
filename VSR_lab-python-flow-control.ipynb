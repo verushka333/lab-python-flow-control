{
 "cells": [
  {
   "cell_type": "markdown",
   "id": "d3bfc191-8885-42ee-b0a0-bbab867c6f9f",
   "metadata": {
    "tags": []
   },
   "source": [
    "# Lab | Flow Control"
   ]
  },
  {
   "cell_type": "markdown",
   "id": "3851fcd1-cf98-4653-9c89-e003b7ec9400",
   "metadata": {},
   "source": [
    "## Exercise: Managing Customer Orders Optimized\n",
    "\n",
    "In the last lab, you were starting an online store that sells various products. To ensure smooth operations, you developed a program that manages customer orders and inventory.\n",
    "\n",
    "You did so without using flow control. Let's go a step further and improve this code.\n",
    "\n",
    "Follow the steps below to complete the exercise:\n",
    "\n",
    "1. Look at your code from the lab data structures, and improve repeated code with loops.\n",
    "\n",
    "2. Instead of asking the user to input the name of three products that a customer wants to order, do the following:\n",
    "    \n",
    "    a. Prompt the user to enter the name of a product that a customer wants to order.\n",
    "    \n",
    "    b. Add the product name to the \"customer_orders\" set.\n",
    "    \n",
    "    c. Ask the user if they want to add another product (yes/no).\n",
    "    \n",
    "    d. Continue the loop until the user does not want to add another product.\n",
    "\n",
    "3. Instead of updating the inventory by subtracting 1 from the quantity of each product, only do it for  the products that were ordered (those in \"customer_orders\")."
   ]
  },
  {
   "cell_type": "code",
   "execution_count": 1,
   "id": "54722fb9",
   "metadata": {},
   "outputs": [],
   "source": [
    "products = [\"t-shirt\", \"mug\"]#, \"hat\", \"book\", \"keychain\"]\n",
    "inventory = dict()"
   ]
  },
  {
   "cell_type": "code",
   "execution_count": 3,
   "id": "3073268c",
   "metadata": {},
   "outputs": [
    {
     "name": "stdout",
     "output_type": "stream",
     "text": [
      "Number of t-shirt available: 78\n",
      "Product t-shirt has 78 in stock\n",
      "Number of mug available: 90\n",
      "Product mug has 90 in stock\n"
     ]
    }
   ],
   "source": [
    "inventory = {}\n",
    "for product in products:\n",
    "    quantity = input(f'Number of {product} available: ')\n",
    "    while not quantity.isdigit():\n",
    "        quantity = input(f'Number of {product} available, please type a digit: ')\n",
    "    inventory[product] = int(quantity)\n",
    "    #inventory.update({product:int(quantity)}) # alternative way to insert data in the dictionary\n",
    "    print(f'Product {product} has {quantity} in stock')"
   ]
  },
  {
   "cell_type": "code",
   "execution_count": 4,
   "id": "f7a23dbb",
   "metadata": {},
   "outputs": [
    {
     "name": "stdout",
     "output_type": "stream",
     "text": [
      "Enter the name of your product MUG\n",
      "Please type a product in ['t-shirt', 'mug'] mug\n",
      "Please type Yes or No. Want to order something else? Yype 'Yes' or 'No':no\n",
      "Please type Yes or No. Want to order something else? Yype 'Yes' or 'No': yes\n",
      "Please type Yes or No. Want to order something else? Yype 'Yes' or 'No': Yes\n",
      "Enter the name of your product MIG\n",
      "Please type a product in ['t-shirt', 'mug'] mug\n",
      "Please type Yes or No. Want to order something else? Yype 'Yes' or 'No':Yes\n",
      "Enter the name of your product t-shirt\n",
      "Please type Yes or No. Want to order something else? Yype 'Yes' or 'No':No\n",
      "{'mug', 't-shirt'}\n"
     ]
    }
   ],
   "source": [
    "customer_orders = set() \n",
    "moreorders = True\n",
    "while moreorders:\n",
    "    order = input('Enter the name of your product ')# ask for user input\n",
    "    while order not in products: # input validation\n",
    "        order = input(f'Please type a product in {products} ')# ask for user input\n",
    "    customer_orders.add(order)\n",
    "    tmp = input(\"Please type Yes or No. Want to order something else? Yype 'Yes' or 'No':\")\n",
    "    while tmp !='Yes' and tmp != 'No':\n",
    "        tmp = input(\"Please type Yes or No. Want to order something else? Yype 'Yes' or 'No': \")# ask for user input\n",
    "    if tmp.capitalize().strip() == 'Yes':\n",
    "        moreorders = True\n",
    "    else:\n",
    "        moreorders = False\n",
    "print(customer_orders)"
   ]
  },
  {
   "cell_type": "code",
   "execution_count": 6,
   "id": "9f775b6d",
   "metadata": {},
   "outputs": [
    {
     "name": "stdout",
     "output_type": "stream",
     "text": [
      "Order Statistics:\n",
      "Total Products Ordered: 2\n",
      "Percentage of Products Ordered: 1.1904761904761905% \n",
      "{'t-shirt': 77, 'mug': 89}\n"
     ]
    }
   ],
   "source": [
    "total_purchase = len(customer_orders)\n",
    "quantity_of_products = sum(inventory.values())\n",
    "order_percentual = (total_purchase/quantity_of_products)*100\n",
    "statistics_tuple = (total_purchase,order_percentual)\n",
    "print(f'''Order Statistics:\n",
    "Total Products Ordered: {statistics_tuple[0]}\n",
    "Percentage of Products Ordered: {statistics_tuple[1]}% ''')\n",
    "for product in customer_orders:\n",
    "    inventory[product]-=1\n",
    "print(inventory)"
   ]
  },
  {
   "cell_type": "code",
   "execution_count": null,
   "id": "0c0bc4e8",
   "metadata": {},
   "outputs": [],
   "source": []
  },
  {
   "cell_type": "code",
   "execution_count": null,
   "id": "bf14af84",
   "metadata": {},
   "outputs": [],
   "source": []
  }
 ],
 "metadata": {
  "kernelspec": {
   "display_name": "Python 3 (ipykernel)",
   "language": "python",
   "name": "python3"
  },
  "language_info": {
   "codemirror_mode": {
    "name": "ipython",
    "version": 3
   },
   "file_extension": ".py",
   "mimetype": "text/x-python",
   "name": "python",
   "nbconvert_exporter": "python",
   "pygments_lexer": "ipython3",
   "version": "3.11.5"
  }
 },
 "nbformat": 4,
 "nbformat_minor": 5
}
